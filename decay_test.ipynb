{
  "nbformat": 4,
  "nbformat_minor": 0,
  "metadata": {
    "colab": {
      "provenance": [],
      "authorship_tag": "ABX9TyMHHoFpYr9X43fgB36eVN5O",
      "include_colab_link": true
    },
    "kernelspec": {
      "name": "python3",
      "display_name": "Python 3"
    },
    "language_info": {
      "name": "python"
    }
  },
  "cells": [
    {
      "cell_type": "markdown",
      "metadata": {
        "id": "view-in-github",
        "colab_type": "text"
      },
      "source": [
        "<a href=\"https://colab.research.google.com/github/Jase2z/wo-decay-test/blob/main/decay_test.ipynb\" target=\"_parent\"><img src=\"https://colab.research.google.com/assets/colab-badge.svg\" alt=\"Open In Colab\"/></a>"
      ]
    },
    {
      "cell_type": "code",
      "source": [
        "!wget https://raw.githubusercontent.com/Jase2z/wo-decay-test/main/mylib.py\n",
        "!python3 mylib.py"
      ],
      "metadata": {
        "colab": {
          "base_uri": "https://localhost:8080/"
        },
        "id": "4Rw_u7yuXYC9",
        "outputId": "9a498581-89c6-448e-b00e-692bcf693c95"
      },
      "execution_count": 4,
      "outputs": [
        {
          "output_type": "stream",
          "name": "stdout",
          "text": [
            "--2024-07-08 04:12:24--  https://raw.githubusercontent.com/Jase2z/wo-decay-test/main/mylib.py\n",
            "Resolving raw.githubusercontent.com (raw.githubusercontent.com)... 185.199.111.133, 185.199.110.133, 185.199.109.133, ...\n",
            "Connecting to raw.githubusercontent.com (raw.githubusercontent.com)|185.199.111.133|:443... connected.\n",
            "HTTP request sent, awaiting response... 200 OK\n",
            "Length: 4034 (3.9K) [text/plain]\n",
            "Saving to: ‘mylib.py’\n",
            "\n",
            "\rmylib.py              0%[                    ]       0  --.-KB/s               \rmylib.py            100%[===================>]   3.94K  --.-KB/s    in 0s      \n",
            "\n",
            "2024-07-08 04:12:25 (52.3 MB/s) - ‘mylib.py’ saved [4034/4034]\n",
            "\n"
          ]
        }
      ]
    },
    {
      "cell_type": "code",
      "execution_count": 6,
      "metadata": {
        "colab": {
          "base_uri": "https://localhost:8080/"
        },
        "id": "1Ez3_KUH8Qc5",
        "outputId": "5cdd5b84-4f49-4d54-9344-78e61e30aa06"
      },
      "outputs": [
        {
          "output_type": "execute_result",
          "data": {
            "text/plain": [
              "[{'File_Name': '06r7Al1pWr.png'},\n",
              " {'File_Name': '0QGYaQCkv4.png'},\n",
              " {'File_Name': '1k4ozTRwTj.png'},\n",
              " {'File_Name': '1WyV27ci32.png'},\n",
              " {'File_Name': '3rCl8juJzQ.png'},\n",
              " {'File_Name': '5c2HSEQeqI.png'},\n",
              " {'File_Name': '7kSRFJsRjh.png'},\n",
              " {'File_Name': '8Bz9ahgIzz.png'},\n",
              " {'File_Name': '8o1r7Eprkz.png'},\n",
              " {'File_Name': 'aTAR3Hzr7x.png'},\n",
              " {'File_Name': 'b3y0UHU3Zz.png'},\n",
              " {'File_Name': 'BPNCqlN1nz.png'},\n",
              " {'File_Name': 'ckmcNCFI7t.png'},\n",
              " {'File_Name': 'cLGmS2YCYX.png'},\n",
              " {'File_Name': 'Cy75w8LEGV.png'},\n",
              " {'File_Name': 'D8xkY1Kvj3.png'},\n",
              " {'File_Name': 'dDMvcImJYT.png'},\n",
              " {'File_Name': 'Fh1FHbDu57.png'},\n",
              " {'File_Name': 'G1hWLs8vXQ.png'},\n",
              " {'File_Name': 'garPpffZdH.png'},\n",
              " {'File_Name': 'gLsFOwvQkF.png'},\n",
              " {'File_Name': 'gSEenfu4es.png'},\n",
              " {'File_Name': 'GYAFsZmbWe.png'},\n",
              " {'File_Name': 'hfcz0E9j0J.png'},\n",
              " {'File_Name': 'HokLj6U4m3.png'},\n",
              " {'File_Name': 'HwEYif6rdV.png'},\n",
              " {'File_Name': 'i2HYIa96FT.png'},\n",
              " {'File_Name': 'i7yP1d7oM0.png'},\n",
              " {'File_Name': 'It7mpyhWCX.png'},\n",
              " {'File_Name': 'Ittv4MOtKU.png'},\n",
              " {'File_Name': 'JYpf9nBxD0.png'},\n",
              " {'File_Name': 'kDGoFxbykb.png'},\n",
              " {'File_Name': 'kKfDwYpMDt.png'},\n",
              " {'File_Name': 'KnOzk1Aiyv.png'},\n",
              " {'File_Name': 'Lvx0s8omRv.png'},\n",
              " {'File_Name': 'm2Ltn73weQ.png'},\n",
              " {'File_Name': 'N2PlHllScq.png'},\n",
              " {'File_Name': 'n8FQKnGiBh.png'},\n",
              " {'File_Name': 'OaEZF2FIwe.png'},\n",
              " {'File_Name': 'Ob2oSmpFhb.png'},\n",
              " {'File_Name': 'OFBLkmByHQ.png'},\n",
              " {'File_Name': 'OrjzP21vBn.png'},\n",
              " {'File_Name': 'PxUbz9jNF7.png'},\n",
              " {'File_Name': 'q28c7LwXkI.png'},\n",
              " {'File_Name': 'QPjbR6kKvH.png'},\n",
              " {'File_Name': 'qptMQ7Jbbm.png'},\n",
              " {'File_Name': 'qqIrmb4TqC.png'},\n",
              " {'File_Name': 'QRhMrMhJcK.png'},\n",
              " {'File_Name': 'qxOI6RfveE.png'},\n",
              " {'File_Name': 'rooFVUaqS0.png'},\n",
              " {'File_Name': 'rVIyT28x7D.png'},\n",
              " {'File_Name': 'SIOn305py2.png'},\n",
              " {'File_Name': 'SStwSV3qT1.png'},\n",
              " {'File_Name': 'sXMokXsKzz.png'},\n",
              " {'File_Name': 'TEZqrvFbNf.png'},\n",
              " {'File_Name': 'tfiEmWryPt.png'},\n",
              " {'File_Name': 'TmZIl89lKE.png'},\n",
              " {'File_Name': 'TnTFP6vVuw.png'},\n",
              " {'File_Name': 'Ub4GFTxGcw.png'},\n",
              " {'File_Name': 'UD8mgrYOGJ.png'},\n",
              " {'File_Name': 'UL4X6et9UF.png'},\n",
              " {'File_Name': 'UQKUjrARml.png'},\n",
              " {'File_Name': 'UxZGkHKME0.png'},\n",
              " {'File_Name': 'vg79zOM2zm.png'},\n",
              " {'File_Name': 'WdoJWeq5Sk.png'},\n",
              " {'File_Name': 'WTAcRpR4w2.png'},\n",
              " {'File_Name': 'YiTuH6SGCc.png'},\n",
              " {'File_Name': 'yKFZGDcPYg.png'},\n",
              " {'File_Name': 'z3YCByEZ9O.png'},\n",
              " {'File_Name': 'zCDbhI6v0x.png'},\n",
              " {'File_Name': 'zgSU9AmtV1.png'}]"
            ]
          },
          "metadata": {},
          "execution_count": 6
        }
      ],
      "source": [
        "from mylib import DashBunnyStorage as store\n",
        "\n",
        "view_key = 'a64836c0-76d6-47f1-94f8a7ecca51-5d56-435b'\n",
        "st = store(api_key=view_key,\n",
        "            storage_zone='wo-decay-test-images',\n",
        "            storage_zone_region='la')\n",
        "objs: list[dict]\n",
        "objs = st.GetStoragedObjectsList()\n",
        "objs"
      ]
    }
  ]
}